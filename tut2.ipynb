{
  "nbformat": 4,
  "nbformat_minor": 0,
  "metadata": {
    "colab": {
      "name": "Tutorial_Two.ipynb",
      "provenance": [],
      "collapsed_sections": [],
      "toc_visible": true
    },
    "kernelspec": {
      "name": "python3",
      "display_name": "Python 3"
    }
  },
  "cells": [
    {
      "cell_type": "markdown",
      "metadata": {
        "id": "DOmmKu44ulYA"
      },
      "source": [
        "# Import the matplotlib package"
      ]
    },
    {
      "cell_type": "markdown",
      "metadata": {
        "id": "tLhIScj47K9_"
      },
      "source": [
        "* Can be used to creating static, animated, and interactive visualisations in Python\n",
        "* plotting in a MATLAB style"
      ]
    },
    {
      "cell_type": "code",
      "metadata": {
        "id": "_9ejzAOzgHjf"
      },
      "source": [
        "import matplotlib.pyplot as plt\n",
        "import numpy as np"
      ],
      "execution_count": null,
      "outputs": []
    },
    {
      "cell_type": "markdown",
      "metadata": {
        "id": "0hBBMk0gCLT0"
      },
      "source": [
        "# Plotting"
      ]
    },
    {
      "cell_type": "code",
      "metadata": {
        "id": "8HV2QayTCPmw"
      },
      "source": [
        "x = [-2, -1, 0, 1, 2]\n",
        "y = [10, 100, 200, 500, 1000]\n",
        "plt.plot(x, y)\n",
        "plt.show()"
      ],
      "execution_count": null,
      "outputs": []
    },
    {
      "cell_type": "markdown",
      "metadata": {
        "id": "XbbasVSCuxR-"
      },
      "source": [
        "* Add labels"
      ]
    },
    {
      "cell_type": "code",
      "metadata": {
        "id": "DUxPgPOTilax"
      },
      "source": [
        "plt.plot(x, y)\n",
        "plt.xlabel('x')\n",
        "plt.ylabel('y')\n",
        "plt.show()"
      ],
      "execution_count": null,
      "outputs": []
    },
    {
      "cell_type": "markdown",
      "metadata": {
        "id": "BxM1jqUcuzcj"
      },
      "source": [
        "* Change colour/marker and specify axes"
      ]
    },
    {
      "cell_type": "code",
      "metadata": {
        "id": "NnhH4ZYEi9Ep"
      },
      "source": [
        "plt.plot(x, y, 'g--')\n",
        "plt.xlabel('x')\n",
        "plt.ylabel('y')\n",
        "plt.axis([0, 2, 0, 800])\n",
        "plt.show()"
      ],
      "execution_count": null,
      "outputs": []
    },
    {
      "cell_type": "markdown",
      "metadata": {
        "id": "E_6jyQ6Vu6Zr"
      },
      "source": [
        "* Scatter plot"
      ]
    },
    {
      "cell_type": "code",
      "metadata": {
        "id": "eZmkbRnIkItz"
      },
      "source": [
        "x = np.arange(10)\n",
        "y = np.arange(10)\n",
        "c = np.arange(10)\n",
        "s = np.arange(1, 20, 2)\n",
        "\n",
        "plt.scatter(x=x, y=y, c=c, s=s)\n",
        "plt.show()"
      ],
      "execution_count": null,
      "outputs": []
    },
    {
      "cell_type": "markdown",
      "metadata": {
        "id": "Fn_C1XPAu-c4"
      },
      "source": [
        "* Bar chart and subplots"
      ]
    },
    {
      "cell_type": "code",
      "metadata": {
        "id": "IeexBtWJl5Ct"
      },
      "source": [
        "cat = ['cat0', 'cat1']\n",
        "num = [10, 20]\n",
        "plt.figure(figsize=(10, 6))\n",
        "plt.subplot(121)\n",
        "plt.bar(cat, num)\n",
        "plt.subplot(122)\n",
        "plt.bar(cat, num, width=0.5)\n",
        "plt.suptitle('example', fontsize=20)\n",
        "plt.show()"
      ],
      "execution_count": null,
      "outputs": []
    },
    {
      "cell_type": "markdown",
      "metadata": {
        "id": "57MCMDW_qkOD"
      },
      "source": [
        "# Read in an image\n"
      ]
    },
    {
      "cell_type": "markdown",
      "metadata": {
        "id": "0CSeB5OrsMHT"
      },
      "source": [
        "* using matplotlib"
      ]
    },
    {
      "cell_type": "code",
      "metadata": {
        "id": "7Eo6tENqrBdG"
      },
      "source": [
        "import matplotlib.image as mpimg\n",
        "img = mpimg.imread('/sample_img.jpg')\n",
        "plt.imshow(img)\n",
        "plt.show()"
      ],
      "execution_count": null,
      "outputs": []
    },
    {
      "cell_type": "markdown",
      "metadata": {
        "id": "braguy_ksSIp"
      },
      "source": [
        "* using OpenCV"
      ]
    },
    {
      "cell_type": "code",
      "metadata": {
        "id": "7dUCoOZknXqM"
      },
      "source": [
        "import cv2\n",
        "img = cv2.imread('/sample_img.jpg')\n",
        "#cv2.imshow('image', img)  # this cannot be used in Colab"
      ],
      "execution_count": null,
      "outputs": []
    },
    {
      "cell_type": "code",
      "metadata": {
        "id": "bnpmGTQzozg9"
      },
      "source": [
        "from google.colab.patches import cv2_imshow\n",
        "cv2_imshow(img)"
      ],
      "execution_count": null,
      "outputs": []
    },
    {
      "cell_type": "markdown",
      "metadata": {
        "id": "xbWxGO8PvMqp"
      },
      "source": [
        "* Try to fix this problem yourself"
      ]
    },
    {
      "cell_type": "code",
      "metadata": {
        "id": "oOYsDmgBqTFe"
      },
      "source": [
        "plt.imshow(img) # note that the colour is not displayed correctly, why?\n",
        "# OpenCV uses BGR instead of RGB!\n",
        "# How to fix it?"
      ],
      "execution_count": null,
      "outputs": []
    },
    {
      "cell_type": "markdown",
      "metadata": {
        "id": "LubwU8tcsQc4"
      },
      "source": [
        "* using the Python Imaging Library (PIL)"
      ]
    },
    {
      "cell_type": "code",
      "metadata": {
        "id": "Dc2CbNxsrwmr"
      },
      "source": [
        "from PIL import Image  \n",
        "from IPython.display import display # to display images\n",
        "pil_im = Image.open('/sample_img.jpg')\n",
        "display(pil_im)"
      ],
      "execution_count": null,
      "outputs": []
    },
    {
      "cell_type": "markdown",
      "metadata": {
        "id": "4AOJyX0c7r4J"
      },
      "source": [
        "* cropping"
      ]
    },
    {
      "cell_type": "code",
      "metadata": {
        "id": "xCB4odjl7thK"
      },
      "source": [
        "img_cropped = img[0:100, 50:300, :]\n",
        "plt.imshow(img_cropped)"
      ],
      "execution_count": null,
      "outputs": []
    },
    {
      "cell_type": "markdown",
      "metadata": {
        "id": "OID2TfkZ9tD6"
      },
      "source": [
        "* RGB to Grey (recall lecture 2)"
      ]
    },
    {
      "cell_type": "code",
      "metadata": {
        "id": "wRFZxogi8jbA"
      },
      "source": [
        "img_grey = img[:, :, 0]*0.2989 + img[:, :, 1]*0.5870 + img[:, :, 2]*0.1140\n",
        "img_grey = img_grey.astype(np.uint8)\n",
        "plt.imshow(img_grey)"
      ],
      "execution_count": null,
      "outputs": []
    },
    {
      "cell_type": "code",
      "metadata": {
        "id": "lP0AsGfL_TyS"
      },
      "source": [
        "plt.imshow(img_grey, cmap='gray')  # using the gray colour space"
      ],
      "execution_count": null,
      "outputs": []
    },
    {
      "cell_type": "markdown",
      "metadata": {
        "id": "H7vtAIWK-lpJ"
      },
      "source": [
        "# Explore other methods for image cropping and colour-greyscale conversion enabled by different python packages yourself"
      ]
    }
  ]
}