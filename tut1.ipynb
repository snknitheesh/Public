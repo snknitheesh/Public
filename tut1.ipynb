{
  "nbformat": 4,
  "nbformat_minor": 0,
  "metadata": {
    "colab": {
      "provenance": []
    },
    "kernelspec": {
      "name": "python3",
      "display_name": "Python 3"
    }
  },
  "cells": [
    {
      "cell_type": "markdown",
      "source": [
        "## UFMFRR-15-M - Machine Vision\n",
        "\n",
        "# Tutorial 1 - Python and Google Colab, Grouping"
      ],
      "metadata": {
        "id": "xl-kShNrpA1G"
      }
    },
    {
      "cell_type": "code",
      "metadata": {
        "id": "_9ejzAOzgHjf",
        "colab": {
          "base_uri": "https://localhost:8080/"
        },
        "outputId": "17539cf7-e25b-485e-cdd7-93e16821801a"
      },
      "source": [
        "import numpy as np  # import a package (numpy)\n",
        "import cv2  #  opencv\n",
        "\n",
        "#!pip list  # list all the packages that have been pre-installed\n",
        "\n",
        "!python --version  # show python version\n",
        "print(cv2.__version__)  # show opencv version\n",
        "print(np.__version__)  #show numpy version\n",
        "\n"
      ],
      "execution_count": null,
      "outputs": [
        {
          "output_type": "stream",
          "name": "stdout",
          "text": [
            "Python 3.10.12\n",
            "4.10.0\n",
            "1.26.4\n"
          ]
        }
      ]
    },
    {
      "cell_type": "markdown",
      "metadata": {
        "id": "sz4hCIdqg4YK"
      },
      "source": [
        "# Test if a GPU is available"
      ]
    },
    {
      "cell_type": "code",
      "metadata": {
        "id": "PolOM-ilhHOt",
        "colab": {
          "base_uri": "https://localhost:8080/"
        },
        "outputId": "0f180d6f-6df2-47e8-92b9-994cc87853b0"
      },
      "source": [
        "!nvidia-smi"
      ],
      "execution_count": null,
      "outputs": [
        {
          "output_type": "stream",
          "name": "stdout",
          "text": [
            "/bin/bash: line 1: nvidia-smi: command not found\n"
          ]
        }
      ]
    },
    {
      "cell_type": "code",
      "metadata": {
        "id": "IhcZufTwe05u",
        "colab": {
          "base_uri": "https://localhost:8080/",
          "height": 35
        },
        "outputId": "a3d49f23-43e4-424e-be4d-5f48c5c3bf4c"
      },
      "source": [
        "import tensorflow as tf\n",
        "tf.test.gpu_device_name()"
      ],
      "execution_count": null,
      "outputs": [
        {
          "output_type": "execute_result",
          "data": {
            "text/plain": [
              "''"
            ],
            "application/vnd.google.colaboratory.intrinsic+json": {
              "type": "string"
            }
          },
          "metadata": {},
          "execution_count": 3
        }
      ]
    },
    {
      "cell_type": "markdown",
      "metadata": {
        "id": "0hBBMk0gCLT0"
      },
      "source": [
        "# Install a package/library"
      ]
    },
    {
      "cell_type": "code",
      "metadata": {
        "id": "8HV2QayTCPmw",
        "colab": {
          "base_uri": "https://localhost:8080/"
        },
        "outputId": "f9fbe68c-ea2a-473f-d285-76767b65e0a7"
      },
      "source": [
        "%pip install keras  # In fact, keras should have been pre-installed in Colab"
      ],
      "execution_count": null,
      "outputs": [
        {
          "output_type": "stream",
          "name": "stdout",
          "text": [
            "Requirement already satisfied: keras in /usr/local/lib/python3.10/dist-packages (3.4.1)\n",
            "Requirement already satisfied: absl-py in /usr/local/lib/python3.10/dist-packages (from keras) (1.4.0)\n",
            "Requirement already satisfied: numpy in /usr/local/lib/python3.10/dist-packages (from keras) (1.26.4)\n",
            "Requirement already satisfied: rich in /usr/local/lib/python3.10/dist-packages (from keras) (13.8.1)\n",
            "Requirement already satisfied: namex in /usr/local/lib/python3.10/dist-packages (from keras) (0.0.8)\n",
            "Requirement already satisfied: h5py in /usr/local/lib/python3.10/dist-packages (from keras) (3.11.0)\n",
            "Requirement already satisfied: optree in /usr/local/lib/python3.10/dist-packages (from keras) (0.12.1)\n",
            "Requirement already satisfied: ml-dtypes in /usr/local/lib/python3.10/dist-packages (from keras) (0.4.1)\n",
            "Requirement already satisfied: packaging in /usr/local/lib/python3.10/dist-packages (from keras) (24.1)\n",
            "Requirement already satisfied: typing-extensions>=4.5.0 in /usr/local/lib/python3.10/dist-packages (from optree->keras) (4.12.2)\n",
            "Requirement already satisfied: markdown-it-py>=2.2.0 in /usr/local/lib/python3.10/dist-packages (from rich->keras) (3.0.0)\n",
            "Requirement already satisfied: pygments<3.0.0,>=2.13.0 in /usr/local/lib/python3.10/dist-packages (from rich->keras) (2.18.0)\n",
            "Requirement already satisfied: mdurl~=0.1 in /usr/local/lib/python3.10/dist-packages (from markdown-it-py>=2.2.0->rich->keras) (0.1.2)\n"
          ]
        }
      ]
    },
    {
      "cell_type": "markdown",
      "metadata": {
        "id": "57MCMDW_qkOD"
      },
      "source": [
        "# Basic data types\n"
      ]
    },
    {
      "cell_type": "code",
      "metadata": {
        "id": "bUGij7-uqo2Y",
        "colab": {
          "base_uri": "https://localhost:8080/"
        },
        "outputId": "6cac7b96-228e-4b57-aeaa-091fc910f241"
      },
      "source": [
        "x = 5  # int\n",
        "y = 1.5  # float\n",
        "z = True  # boolean\n",
        "print(type(x))\n",
        "print(type(y))\n",
        "print(type(z))"
      ],
      "execution_count": null,
      "outputs": [
        {
          "output_type": "stream",
          "name": "stdout",
          "text": [
            "<class 'int'>\n",
            "<class 'float'>\n",
            "<class 'bool'>\n"
          ]
        }
      ]
    },
    {
      "cell_type": "code",
      "metadata": {
        "id": "efts7RR5s5dD",
        "colab": {
          "base_uri": "https://localhost:8080/"
        },
        "outputId": "422660bb-93dc-47e0-a2b3-ca7f1195de2d"
      },
      "source": [
        "machine = 'machine'\n",
        "mv = machine + '_' + 'vision'  # concatenation of strings\n",
        "print(mv)\n",
        "print(type(mv))"
      ],
      "execution_count": null,
      "outputs": [
        {
          "output_type": "stream",
          "name": "stdout",
          "text": [
            "machine_vision\n",
            "<class 'str'>\n"
          ]
        }
      ]
    },
    {
      "cell_type": "markdown",
      "metadata": {
        "id": "braguy_ksSIp"
      },
      "source": [
        "* Please refer to some of the [useful string methods](https://docs.python.org/release/3.6.9/library/stdtypes.html#string-methods)"
      ]
    },
    {
      "cell_type": "markdown",
      "metadata": {
        "id": "f-sNeISotZ9W"
      },
      "source": [
        "# Lists, Dictionaries, Sets and Tuples"
      ]
    },
    {
      "cell_type": "code",
      "metadata": {
        "id": "BGwDdSnRshyu",
        "colab": {
          "base_uri": "https://localhost:8080/"
        },
        "outputId": "380942ad-c31a-4170-b4b7-e4ad863a77b4"
      },
      "source": [
        "a = [1, 2, 3]\n",
        "b = ['x', 'y', 'z']\n",
        "a[1] = 'z'\n",
        "\n",
        "print(a)\n",
        "print(b)"
      ],
      "execution_count": null,
      "outputs": [
        {
          "output_type": "stream",
          "name": "stdout",
          "text": [
            "[1, 'z', 3]\n",
            "['x', 'y', 'z']\n"
          ]
        }
      ]
    },
    {
      "cell_type": "markdown",
      "metadata": {
        "id": "oHO6y0jRvQKC"
      },
      "source": [
        "* More on list [here](https://docs.python.org/release/3.6.9/tutorial/datastructures.html#more-on-lists)\n",
        "* Read about [Dictionaries](https://docs.python.org/release/3.6.9/library/stdtypes.html#mapping-types-dict), [Sets](https://docs.python.org/release/3.6.9/library/stdtypes.html#set-types-set-frozenset) and [Tuples](https://docs.python.org/release/3.6.9/library/stdtypes.html?highlight=tuple#tuples) yourself"
      ]
    },
    {
      "cell_type": "markdown",
      "metadata": {
        "id": "sknKkbX7y1RJ"
      },
      "source": [
        "# Numpy"
      ]
    },
    {
      "cell_type": "markdown",
      "metadata": {
        "id": "7toKl9JC-qo1"
      },
      "source": [
        "Create a numpy array"
      ]
    },
    {
      "cell_type": "code",
      "metadata": {
        "id": "NhqClaEGy3L_",
        "colab": {
          "base_uri": "https://localhost:8080/"
        },
        "outputId": "9325b164-c9a0-402b-9430-d207c5ce60bb"
      },
      "source": [
        "a = np.arange(12)\n",
        "a1 = np.arange(2, 20, 3)  # Return evenly spaced values within a given interval.\n",
        "b = np.diag(a)  # Extract a diagonal or construct a diagonal array.\n",
        "print(a)\n",
        "print(a1)\n",
        "print(b)\n"
      ],
      "execution_count": null,
      "outputs": [
        {
          "output_type": "stream",
          "name": "stdout",
          "text": [
            "[ 0  1  2  3  4  5  6  7  8  9 10 11]\n",
            "[ 2  5  8 11 14 17]\n",
            "[[ 0  0  0  0  0  0  0  0  0  0  0  0]\n",
            " [ 0  1  0  0  0  0  0  0  0  0  0  0]\n",
            " [ 0  0  2  0  0  0  0  0  0  0  0  0]\n",
            " [ 0  0  0  3  0  0  0  0  0  0  0  0]\n",
            " [ 0  0  0  0  4  0  0  0  0  0  0  0]\n",
            " [ 0  0  0  0  0  5  0  0  0  0  0  0]\n",
            " [ 0  0  0  0  0  0  6  0  0  0  0  0]\n",
            " [ 0  0  0  0  0  0  0  7  0  0  0  0]\n",
            " [ 0  0  0  0  0  0  0  0  8  0  0  0]\n",
            " [ 0  0  0  0  0  0  0  0  0  9  0  0]\n",
            " [ 0  0  0  0  0  0  0  0  0  0 10  0]\n",
            " [ 0  0  0  0  0  0  0  0  0  0  0 11]]\n"
          ]
        }
      ]
    },
    {
      "cell_type": "markdown",
      "metadata": {
        "id": "hvht2r5L-u6B"
      },
      "source": [
        "Reshape a numpy array"
      ]
    },
    {
      "cell_type": "code",
      "metadata": {
        "id": "FfWVGvx8zOKf",
        "colab": {
          "base_uri": "https://localhost:8080/"
        },
        "outputId": "a850136e-b33e-4434-bd9b-c02ddec8e136"
      },
      "source": [
        "a = a.reshape(3,4)\n",
        "print(a)\n",
        "print('The shape of the array is: ' + str(a.shape))\n",
        "print('The type of the elements: ' + a.dtype.name)"
      ],
      "execution_count": null,
      "outputs": [
        {
          "output_type": "stream",
          "name": "stdout",
          "text": [
            "[[ 0  1  2  3]\n",
            " [ 4  5  6  7]\n",
            " [ 8  9 10 11]]\n",
            "The shape of the array is: (3, 4)\n",
            "The type of the elements: int64\n"
          ]
        }
      ]
    },
    {
      "cell_type": "markdown",
      "metadata": {
        "id": "KgpQ8T6m_zxh"
      },
      "source": [
        "Add a number to all elements in an array"
      ]
    },
    {
      "cell_type": "code",
      "metadata": {
        "id": "-tGHE02k_3JI",
        "colab": {
          "base_uri": "https://localhost:8080/"
        },
        "outputId": "30af42cd-9ecd-4c1d-83e3-fc3f43b97489"
      },
      "source": [
        "a = a + 5\n",
        "print(a)"
      ],
      "execution_count": null,
      "outputs": [
        {
          "output_type": "stream",
          "name": "stdout",
          "text": [
            "[[ 5  6  7  8]\n",
            " [ 9 10 11 12]\n",
            " [13 14 15 16]]\n"
          ]
        }
      ]
    },
    {
      "cell_type": "markdown",
      "metadata": {
        "id": "ds-pMo65_7uJ"
      },
      "source": [
        "Slicing"
      ]
    },
    {
      "cell_type": "code",
      "metadata": {
        "id": "PXlY50ir5O7c",
        "colab": {
          "base_uri": "https://localhost:8080/"
        },
        "outputId": "a33265d9-6a01-4b14-bfd8-a3981b652dd7"
      },
      "source": [
        "c = a[0:2,2]\n",
        "print(c)\n"
      ],
      "execution_count": null,
      "outputs": [
        {
          "output_type": "stream",
          "name": "stdout",
          "text": [
            "[ 7 11]\n"
          ]
        }
      ]
    },
    {
      "cell_type": "markdown",
      "metadata": {
        "id": "8pCIaWYHB0nP"
      },
      "source": [
        "* More on numpy [here](https://numpy.org/doc/1.18/reference/index.html)"
      ]
    },
    {
      "cell_type": "markdown",
      "source": [
        "## What you should do next"
      ],
      "metadata": {
        "id": "PGQ5ZU_tBsNu"
      }
    },
    {
      "cell_type": "markdown",
      "source": [
        "### 1. Teamup for the Coursework\n",
        "Please follow the instructions of the tutors to form a group of 4 ~ 6 students for the coursework of the Machine Vision module. You can walk around and talk with each other during this grouping period. After agreeing with the other members of your group, you should register your name using the grouping link on the Blackboard system. Please note that you are only allowed to team up with the students in the same lab session."
      ],
      "metadata": {
        "id": "9euw_0FJB2WP"
      }
    },
    {
      "cell_type": "markdown",
      "source": [
        "### 2. Quiz\n",
        "To self-check the learning performance, please finish the quiz on Mentimeter."
      ],
      "metadata": {
        "id": "6wjccUSTEomq"
      }
    },
    {
      "cell_type": "markdown",
      "source": [
        "### 3. More practice in Python\n",
        "Please download Week 1.doc on Blackboard and try to solve the questions in the worksheet."
      ],
      "metadata": {
        "id": "KojOW9C7HrTK"
      }
    }
  ]
}